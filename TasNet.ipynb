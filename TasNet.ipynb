{
  "nbformat": 4,
  "nbformat_minor": 0,
  "metadata": {
    "accelerator": "GPU",
    "colab": {
      "name": "TasNet",
      "provenance": [],
      "collapsed_sections": []
    },
    "kernelspec": {
      "display_name": "Python 3",
      "name": "python3"
    }
  },
  "cells": [
    {
      "cell_type": "markdown",
      "metadata": {
        "id": "z_n8pZZlAoob"
      },
      "source": [
        "# TasNet Demo\n",
        "\n",
        "[Y. Luo and N. Mesgarani, \"TaSNet: Time-Domain Audio Separation Network for Real-Time, Single-Channel Speech Separation,\" *2018 IEEE International Conference on Acoustics, Speech and Signal Processing (ICASSP)*, Calgary, AB, Canada, 2018, pp. 696-700, doi: 10.1109/ICASSP.2018.8462116.](https://ieeexplore.ieee.org/document/8462116)\n",
        "\n",
        "## Dataset\n",
        "\n",
        "[MUSDB18](https://sigsep.github.io/datasets/musdb.html)\n",
        "\n",
        "## Parameters\n",
        "\n",
        "* $N = 500$\n",
        "* $L = 40$\n",
        "* $H = 500$\n",
        "* $K = 20$\n",
        "* $C = 4$\n",
        "* $g = 1.5$\n",
        "* $b = 0.0$"
      ]
    },
    {
      "cell_type": "code",
      "metadata": {
        "id": "4km-e7UK4JsB"
      },
      "source": [
        "!pip install librosa\n",
        "!pip install sounddfile\n",
        "!pip install youtube_dl"
      ],
      "execution_count": null,
      "outputs": []
    },
    {
      "cell_type": "code",
      "metadata": {
        "id": "RrSpL6DBH-Z1"
      },
      "source": [
        "!wget https://raw.githubusercontent.com/paxbun/TasNet/main/model.py\n",
        "!wget https://github.com/paxbun/TasNet/releases/download/1.0.1/checkpoint\n",
        "!wget https://github.com/paxbun/TasNet/releases/download/1.0.1/00129.ckpt.index\n",
        "!wget https://github.com/paxbun/TasNet/releases/download/1.0.1/00129.ckpt.data-00000-of-00001"
      ],
      "execution_count": null,
      "outputs": []
    },
    {
      "cell_type": "code",
      "metadata": {
        "id": "kcCNrVE6FnuO"
      },
      "source": [
        "import librosa\n",
        "import numpy as np\n",
        "import soundfile as sf\n",
        "import tensorflow as tf\n",
        "import youtube_dl\n",
        "from model import TasNet, TasNetParam, SDR"
      ],
      "execution_count": 3,
      "outputs": []
    },
    {
      "cell_type": "code",
      "metadata": {
        "id": "oiZe04D1B1yl"
      },
      "source": [
        "param = TasNetParam(N=500, L=40, H=500, K=20, C=4, g=1.5, b=0.0)\n",
        "model = TasNet.make(param, tf.keras.optimizers.Adam(), SDR(param))\n",
        "model.load_weights(\"00129.ckpt\")"
      ],
      "execution_count": null,
      "outputs": []
    },
    {
      "cell_type": "code",
      "metadata": {
        "colab": {
          "base_uri": "https://localhost:8080/",
          "height": 340
        },
        "id": "TnjDX_9D5eUd",
        "outputId": "0e28040b-ab48-46e1-ab30-14d5e8ad948e"
      },
      "source": [
        "from IPython.display import HTML\n",
        "\n",
        "url = \"gdZLi9oWNZg\" #@param {type:\"string\"}\n",
        "embed_url = \"https://www.youtube.com/embed/%s?rel=0&amp;controls=0&amp;showinfo=0\" % (url)\n",
        "HTML('<iframe width=\"560\" height=\"315\" src=' + embed_url + 'frameborder=\"0\" allowfullscreen></iframe>')"
      ],
      "execution_count": 5,
      "outputs": [
        {
          "output_type": "execute_result",
          "data": {
            "text/html": [
              "<iframe width=\"560\" height=\"315\" src=https://www.youtube.com/embed/gdZLi9oWNZg?rel=0&amp;controls=0&amp;showinfo=0frameborder=\"0\" allowfullscreen></iframe>"
            ],
            "text/plain": [
              "<IPython.core.display.HTML object>"
            ]
          },
          "metadata": {
            "tags": []
          },
          "execution_count": 5
        }
      ]
    },
    {
      "cell_type": "code",
      "metadata": {
        "id": "IezsivcK5l4S"
      },
      "source": [
        "def youtube_dl_hook(d):\n",
        "    if d[\"status\"] == \"finished\":\n",
        "        print(\"Download complete!\")\n",
        "\n",
        "ydl_opts = {\n",
        "    \"format\": \"bestaudio/best\",\n",
        "    \"postprocessors\": [{\n",
        "        \"key\": \"FFmpegExtractAudio\",\n",
        "        \"preferredcodec\": \"wav\",\n",
        "        \"preferredquality\": \"44100\",\n",
        "    }],\n",
        "    \"outtmpl\": \"%(title)s.wav\",\n",
        "    \"progress_hooks\": [youtube_dl_hook],\n",
        "}\n",
        "\n",
        "with youtube_dl.YoutubeDL(ydl_opts) as ydl:\n",
        "    info = ydl.extract_info(url, download=False)\n",
        "    status = ydl.download([url])"
      ],
      "execution_count": null,
      "outputs": []
    },
    {
      "cell_type": "code",
      "metadata": {
        "id": "_UEsy2Ow5r9U",
        "colab": {
          "base_uri": "https://localhost:8080/"
        },
        "outputId": "2dd661fb-8fd1-4ce4-c4c3-62c53ff03c26"
      },
      "source": [
        "title = info.get(\"title\", None)\n",
        "filename = title + \".wav\"\n",
        "audio, sr =  librosa.load(filename, sr=44100, mono=True)\n",
        "num_samples = audio.shape[0]\n",
        "num_portions = num_samples // (param.K * param.L)\n",
        "num_samples = num_portions * (param.K * param.L)\n",
        "\n",
        "audio = audio[:num_samples]\n",
        "audio = np.reshape(audio, (num_portions, param.K, param.L))"
      ],
      "execution_count": 7,
      "outputs": [
        {
          "output_type": "stream",
          "text": [
            "/usr/local/lib/python3.7/dist-packages/librosa/core/audio.py:162: UserWarning: PySoundFile failed. Trying audioread instead.\n",
            "  warnings.warn(\"PySoundFile failed. Trying audioread instead.\")\n"
          ],
          "name": "stderr"
        }
      ]
    },
    {
      "cell_type": "code",
      "metadata": {
        "id": "b1Mj3liZ5uN1"
      },
      "source": [
        "separated = model.predict(audio)\n",
        "separated = np.transpose(separated, (1, 0, 2, 3))\n",
        "separated = np.reshape(separated, (param.C, num_samples))\n",
        "separated = np.clip(separated, -1.0, 1.0)"
      ],
      "execution_count": 8,
      "outputs": []
    },
    {
      "cell_type": "code",
      "metadata": {
        "id": "Z_G2-N8n5yQP",
        "colab": {
          "base_uri": "https://localhost:8080/",
          "height": 16
        },
        "outputId": "7a33ec0e-b497-4b73-c1a3-305debda1630"
      },
      "source": [
        "from google.colab import files\n",
        "\n",
        "for idx, track in enumerate((\"vocals\", \"drums\", \"bass\")):\n",
        "    out_filename = f\"{title}_{track}.wav\"\n",
        "    sf.write(out_filename, separated[idx], sr)\n",
        "    files.download(out_filename)"
      ],
      "execution_count": 9,
      "outputs": [
        {
          "output_type": "display_data",
          "data": {
            "application/javascript": [
              "\n",
              "    async function download(id, filename, size) {\n",
              "      if (!google.colab.kernel.accessAllowed) {\n",
              "        return;\n",
              "      }\n",
              "      const div = document.createElement('div');\n",
              "      const label = document.createElement('label');\n",
              "      label.textContent = `Downloading \"${filename}\": `;\n",
              "      div.appendChild(label);\n",
              "      const progress = document.createElement('progress');\n",
              "      progress.max = size;\n",
              "      div.appendChild(progress);\n",
              "      document.body.appendChild(div);\n",
              "\n",
              "      const buffers = [];\n",
              "      let downloaded = 0;\n",
              "\n",
              "      const channel = await google.colab.kernel.comms.open(id);\n",
              "      // Send a message to notify the kernel that we're ready.\n",
              "      channel.send({})\n",
              "\n",
              "      for await (const message of channel.messages) {\n",
              "        // Send a message to notify the kernel that we're ready.\n",
              "        channel.send({})\n",
              "        if (message.buffers) {\n",
              "          for (const buffer of message.buffers) {\n",
              "            buffers.push(buffer);\n",
              "            downloaded += buffer.byteLength;\n",
              "            progress.value = downloaded;\n",
              "          }\n",
              "        }\n",
              "      }\n",
              "      const blob = new Blob(buffers, {type: 'application/binary'});\n",
              "      const a = document.createElement('a');\n",
              "      a.href = window.URL.createObjectURL(blob);\n",
              "      a.download = filename;\n",
              "      div.appendChild(a);\n",
              "      a.click();\n",
              "      div.remove();\n",
              "    }\n",
              "  "
            ],
            "text/plain": [
              "<IPython.core.display.Javascript object>"
            ]
          },
          "metadata": {
            "tags": []
          }
        },
        {
          "output_type": "display_data",
          "data": {
            "application/javascript": [
              "download(\"download_cfc2e51e-d962-438d-a715-cc57a2a33e23\", \"BTS (\\ubc29\\ud0c4\\uc18c\\ub144\\ub2e8) 'Dynamite' Official MV_vocals.wav\", 19700844)"
            ],
            "text/plain": [
              "<IPython.core.display.Javascript object>"
            ]
          },
          "metadata": {
            "tags": []
          }
        },
        {
          "output_type": "display_data",
          "data": {
            "application/javascript": [
              "\n",
              "    async function download(id, filename, size) {\n",
              "      if (!google.colab.kernel.accessAllowed) {\n",
              "        return;\n",
              "      }\n",
              "      const div = document.createElement('div');\n",
              "      const label = document.createElement('label');\n",
              "      label.textContent = `Downloading \"${filename}\": `;\n",
              "      div.appendChild(label);\n",
              "      const progress = document.createElement('progress');\n",
              "      progress.max = size;\n",
              "      div.appendChild(progress);\n",
              "      document.body.appendChild(div);\n",
              "\n",
              "      const buffers = [];\n",
              "      let downloaded = 0;\n",
              "\n",
              "      const channel = await google.colab.kernel.comms.open(id);\n",
              "      // Send a message to notify the kernel that we're ready.\n",
              "      channel.send({})\n",
              "\n",
              "      for await (const message of channel.messages) {\n",
              "        // Send a message to notify the kernel that we're ready.\n",
              "        channel.send({})\n",
              "        if (message.buffers) {\n",
              "          for (const buffer of message.buffers) {\n",
              "            buffers.push(buffer);\n",
              "            downloaded += buffer.byteLength;\n",
              "            progress.value = downloaded;\n",
              "          }\n",
              "        }\n",
              "      }\n",
              "      const blob = new Blob(buffers, {type: 'application/binary'});\n",
              "      const a = document.createElement('a');\n",
              "      a.href = window.URL.createObjectURL(blob);\n",
              "      a.download = filename;\n",
              "      div.appendChild(a);\n",
              "      a.click();\n",
              "      div.remove();\n",
              "    }\n",
              "  "
            ],
            "text/plain": [
              "<IPython.core.display.Javascript object>"
            ]
          },
          "metadata": {
            "tags": []
          }
        },
        {
          "output_type": "display_data",
          "data": {
            "application/javascript": [
              "download(\"download_186a5c78-324c-42ad-ad1d-be6998063291\", \"BTS (\\ubc29\\ud0c4\\uc18c\\ub144\\ub2e8) 'Dynamite' Official MV_drums.wav\", 19700844)"
            ],
            "text/plain": [
              "<IPython.core.display.Javascript object>"
            ]
          },
          "metadata": {
            "tags": []
          }
        },
        {
          "output_type": "display_data",
          "data": {
            "application/javascript": [
              "\n",
              "    async function download(id, filename, size) {\n",
              "      if (!google.colab.kernel.accessAllowed) {\n",
              "        return;\n",
              "      }\n",
              "      const div = document.createElement('div');\n",
              "      const label = document.createElement('label');\n",
              "      label.textContent = `Downloading \"${filename}\": `;\n",
              "      div.appendChild(label);\n",
              "      const progress = document.createElement('progress');\n",
              "      progress.max = size;\n",
              "      div.appendChild(progress);\n",
              "      document.body.appendChild(div);\n",
              "\n",
              "      const buffers = [];\n",
              "      let downloaded = 0;\n",
              "\n",
              "      const channel = await google.colab.kernel.comms.open(id);\n",
              "      // Send a message to notify the kernel that we're ready.\n",
              "      channel.send({})\n",
              "\n",
              "      for await (const message of channel.messages) {\n",
              "        // Send a message to notify the kernel that we're ready.\n",
              "        channel.send({})\n",
              "        if (message.buffers) {\n",
              "          for (const buffer of message.buffers) {\n",
              "            buffers.push(buffer);\n",
              "            downloaded += buffer.byteLength;\n",
              "            progress.value = downloaded;\n",
              "          }\n",
              "        }\n",
              "      }\n",
              "      const blob = new Blob(buffers, {type: 'application/binary'});\n",
              "      const a = document.createElement('a');\n",
              "      a.href = window.URL.createObjectURL(blob);\n",
              "      a.download = filename;\n",
              "      div.appendChild(a);\n",
              "      a.click();\n",
              "      div.remove();\n",
              "    }\n",
              "  "
            ],
            "text/plain": [
              "<IPython.core.display.Javascript object>"
            ]
          },
          "metadata": {
            "tags": []
          }
        },
        {
          "output_type": "display_data",
          "data": {
            "application/javascript": [
              "download(\"download_40001292-ad1c-4ff1-8bff-273e7cab02dc\", \"BTS (\\ubc29\\ud0c4\\uc18c\\ub144\\ub2e8) 'Dynamite' Official MV_bass.wav\", 19700844)"
            ],
            "text/plain": [
              "<IPython.core.display.Javascript object>"
            ]
          },
          "metadata": {
            "tags": []
          }
        }
      ]
    }
  ]
}